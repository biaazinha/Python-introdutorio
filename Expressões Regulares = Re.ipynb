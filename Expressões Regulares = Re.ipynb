{
 "cells": [
  {
   "cell_type": "markdown",
   "id": "26e9425f",
   "metadata": {},
   "source": [
    "# Expressões Regulares"
   ]
  },
  {
   "cell_type": "markdown",
   "id": "e6f694ca",
   "metadata": {},
   "source": [
    "Expressões Regulares são uma sequência de caracteres que definem uma busca PADRÃO em strings. Em Python, as Expressões Regulares são suportadas pelo pacote re. Ele fornece uma série de funções para pesquisar e substituir padrões em strings. "
   ]
  },
  {
   "cell_type": "markdown",
   "id": "029acc82",
   "metadata": {},
   "source": [
    "Exemplo: pode  usar  uma  expressão  regular  para  verificar  se  uma  string representa um endereço de e-mail válido, ou para encontrar todas as ocorrências de um padrão em uma string"
   ]
  },
  {
   "cell_type": "code",
   "execution_count": 4,
   "id": "57b831e7",
   "metadata": {},
   "outputs": [],
   "source": [
    "import re"
   ]
  },
  {
   "cell_type": "code",
   "execution_count": 5,
   "id": "17af6f45",
   "metadata": {},
   "outputs": [],
   "source": [
    "texto = \"Meu e-mail é exemplo@gmail.com e você pode me contatar em outro@outlook.com.br\""
   ]
  },
  {
   "cell_type": "code",
   "execution_count": 6,
   "id": "5603ac09",
   "metadata": {},
   "outputs": [],
   "source": [
    "# Expressão regular para contar quantas vezes o caracter arroba aparece\n",
    "resultado = len(re.findall(\"@\", texto))"
   ]
  },
  {
   "cell_type": "code",
   "execution_count": 7,
   "id": "db2cdd06",
   "metadata": {},
   "outputs": [
    {
     "name": "stdout",
     "output_type": "stream",
     "text": [
      "O caractere '@' apareceu 2 vezes no texto.\n"
     ]
    }
   ],
   "source": [
    "print(\"O caractere '@' apareceu\", resultado, \"vezes no texto.\")"
   ]
  },
  {
   "cell_type": "code",
   "execution_count": 9,
   "id": "869df6a6",
   "metadata": {},
   "outputs": [],
   "source": [
    "# Expressão regular para extrair a palavra que aparece após a palavra \"você\" em um texto\n",
    "resultado = re.findall(r'você (\\w+)', texto)"
   ]
  },
  {
   "cell_type": "code",
   "execution_count": 16,
   "id": "19759182",
   "metadata": {},
   "outputs": [
    {
     "name": "stdout",
     "output_type": "stream",
     "text": [
      "A palavra após 'você' é: pode\n"
     ]
    }
   ],
   "source": [
    "print(\"A palavra após 'você' é:\", resultado[0])"
   ]
  },
  {
   "cell_type": "markdown",
   "id": "4cc9e934",
   "metadata": {},
   "source": [
    "Nota: o r antes da string é usado para indicar que a string é literal raw. Isso significa que barras invertidas () não são interpretadas como caracteres de escape, mas são incluídas na expressão regular como parte do padrão."
   ]
  },
  {
   "cell_type": "code",
   "execution_count": 19,
   "id": "0d7dbfcc",
   "metadata": {},
   "outputs": [],
   "source": [
    "# Expressão regular para extrair endereços de e-mail de uma string\n",
    "emails = re.findall(r'\\b[A-Za-z0-9._%+-]+@[A-Za-z0-9.-]+\\.[A-Z|a-z]{2,}\\b', texto)"
   ]
  },
  {
   "cell_type": "code",
   "execution_count": 20,
   "id": "6edfc4c6",
   "metadata": {},
   "outputs": [
    {
     "name": "stdout",
     "output_type": "stream",
     "text": [
      "['exemplo@gmail.com', 'outro@outlook.com.br']\n"
     ]
    }
   ],
   "source": [
    "print(emails)"
   ]
  },
  {
   "cell_type": "markdown",
   "id": "37a0debf",
   "metadata": {},
   "source": [
    "Visite a DOCUMENTAÇÃO: https://docs.python.org/3.9/library/re.html"
   ]
  },
  {
   "cell_type": "code",
   "execution_count": 21,
   "id": "2103c706",
   "metadata": {},
   "outputs": [],
   "source": [
    "text = \"O aluno estava incrivelmente perdido, mas começou a estudar e rapidamente começou a aprender.\""
   ]
  },
  {
   "cell_type": "code",
   "execution_count": 23,
   "id": "803dfb25",
   "metadata": {},
   "outputs": [
    {
     "name": "stdout",
     "output_type": "stream",
     "text": [
      "15-28: incrivelmente\n",
      "62-73: rapidamente\n"
     ]
    }
   ],
   "source": [
    "# Extraindo os advérbios da frase\n",
    "for m in re.finditer(r'\\w+mente\\b', text):\n",
    "    print('%02d-%02d: %s' % (m.start(), m.end(), m.group(0)))"
   ]
  },
  {
   "cell_type": "markdown",
   "id": "c9d279f6",
   "metadata": {},
   "source": [
    "# Exercício: Usando o RE em uma letra de música"
   ]
  },
  {
   "cell_type": "code",
   "execution_count": 6,
   "id": "ede2da6f",
   "metadata": {},
   "outputs": [],
   "source": [
    "musica = '''\n",
    "Palavras não bastam, não dá pra entender\n",
    "E esse medo que cresce não para\n",
    "É uma história que se complicou\n",
    "Eu sei bem o porquê\n",
    "Qual é o peso da culpa que eu carrego nos braços\n",
    "Me entorta as costas e dá um cansaço\n",
    "A maldade do tempo fez eu me afastar de você\n",
    "E quando chega a noite e eu não consigo dormir\n",
    "Meu coração acelera e eu sozinha aqui\n",
    "Eu mudo o lado da cama, eu ligo a televisão\n",
    "Olhos nos olhos no espelho e o telefone na mão\n",
    "Pro tanto que eu te queria o perto nunca bastava\n",
    "E essa proximidade não dava\n",
    "Me perdi no que era real e no que eu inventei\n",
    "Reescrevi as memórias, deixei o cabelo crescer\n",
    "E te dedico uma linda história confessa\n",
    "Nem a maldade do tempo consegue me afastar de você\n",
    "Te contei tantos segredos que já não eram só meus\n",
    "Rimas de um velho diário que nunca me pertenceu\n",
    "Entre palavras não ditas, tantas palavras de amor\n",
    "Essa paixão é antiga e o tempo nunca passou\n",
    "E quando chega a noite e eu não consigo dormir\n",
    "Meu coração acelera e eu sozinha aqui\n",
    "Eu mudo o lado da cama, eu ligo a televisão\n",
    "Olhos nos olhos no espelho e o telefone na minha mão\n",
    "E quando chega a noite e eu não consigo dormir\n",
    "Meu coração acelera e eu sozinha aqui\n",
    "Eu mudo o lado da cama, eu ligo a televisão\n",
    "Olhos nos olhos no espelho e o telefone na minha mão\n",
    "Na minha mão, na minha mão\n",
    "'''"
   ]
  },
  {
   "cell_type": "code",
   "execution_count": 38,
   "id": "95e8aa48",
   "metadata": {},
   "outputs": [
    {
     "name": "stdout",
     "output_type": "stream",
     "text": [
      "O caracter 'a' aparece: 118 vezes.\n"
     ]
    }
   ],
   "source": [
    "# 1 - Crie um REGEX para contar quantas vezes o caracter 'a' aparece na música\n",
    "resultado = len(re.findall(r'a', musica))\n",
    "\n",
    "print(\"O caracter 'a' aparece:\", resultado, \"vezes.\")"
   ]
  },
  {
   "cell_type": "code",
   "execution_count": 34,
   "id": "e94eadd0",
   "metadata": {},
   "outputs": [
    {
     "name": "stdout",
     "output_type": "stream",
     "text": [
      "A palavra 'tempo' aparece: 3 vezes.\n"
     ]
    }
   ],
   "source": [
    "# 2 - Crie um REGEX para contar quantas vezes a palavra 'tempo' aparece na música\n",
    "resposta = len(re.findall(r'\\btempo\\b', musica))\n",
    "\n",
    "print(\"A palavra 'tempo' aparece:\", resposta, \"vezes.\")"
   ]
  },
  {
   "cell_type": "code",
   "execution_count": 39,
   "id": "3e34690c",
   "metadata": {},
   "outputs": [
    {
     "name": "stdout",
     "output_type": "stream",
     "text": [
      "Palavras seguidas por vírgula: 7\n"
     ]
    }
   ],
   "source": [
    "# 3 - Crie um REGEX para extrair as palavras seguidas por vírgulas\n",
    "resultado = len(re.findall(r'\\b\\w+,', musica))\n",
    "\n",
    "print(\"Palavras seguidas por vírgula:\", resultado)"
   ]
  },
  {
   "cell_type": "code",
   "execution_count": 9,
   "id": "a9465050",
   "metadata": {},
   "outputs": [
    {
     "name": "stdout",
     "output_type": "stream",
     "text": [
      "Palavras cujo antecessor seja a palavra 'meu' e o sucessor 'acelera': ['coração', 'coração', 'coração']\n"
     ]
    }
   ],
   "source": [
    "# 4 - Crie um REGEX para extrair qualquer palavra cujo antecessor seja a palavra 'Meu' e o sucessor 'acelera'\n",
    "resultado2 = re.findall(r'\\bMeu\\s(\\w+)\\sacelera\\b', musica)\n",
    "\n",
    "print(\"Palavras cujo antecessor seja a palavra 'Meu' e o sucessor 'acelera':\", resultado2)"
   ]
  },
  {
   "cell_type": "code",
   "execution_count": 10,
   "id": "92095ffc",
   "metadata": {},
   "outputs": [
    {
     "name": "stdout",
     "output_type": "stream",
     "text": [
      "Palavras com acento, caracteres na palavra que são anteriores ao caracteres com acento: ['n', 'n', 'd', 'n', 'hist', 'porqu', '', 'bra', 'd', 'cansa', 'voc', 'n', 'cora', 'televis', 'm', 'n', 'mem', 'hist', 'voc', 'j', 'n', 's', 'di', 'n', 'paix', '', 'n', 'cora', 'televis', 'm', 'n', 'cora', 'televis', 'm', 'm', 'm']\n"
     ]
    }
   ],
   "source": [
    "# 5 - Crie um REGEX que retorne as palavras com acento, mas somente os caracteres na palavra que são anteriores ao caracteres com acento\n",
    "resultado3 = re.findall(r'\\b([^\\sáéíóúãẽĩõũâêîôûàèìòùç]*)(?=[áéíóúãẽĩõũâêîôûàèìòùç])', musica)\n",
    "\n",
    "print(\"Palavras com acento, caracteres na palavra que são anteriores ao caracteres com acento:\", resultado3)"
   ]
  },
  {
   "cell_type": "code",
   "execution_count": 12,
   "id": "f121fa8a",
   "metadata": {},
   "outputs": [
    {
     "name": "stdout",
     "output_type": "stream",
     "text": [
      "Palavras com acento, caracteres na palavra que são anteriores ao caracteres com acento: ['n', 'n', 'd', 'n', 'hist', 'porqu', 'bra', 'd', 'cansa', 'voc', 'n', 'coraç', 'televis', 'm', 'n', 'mem', 'hist', 'voc', 'j', 'n', 's', 'di', 'n', 'paix', 'n', 'coraç', 'televis', 'm', 'n', 'coraç', 'televis', 'm', 'm', 'm']\n"
     ]
    }
   ],
   "source": [
    "# 5 - outra forma\n",
    "resultado3 = re.findall(r'(\\w+)[\\u00C0-\\u017F]+', musica)\n",
    "\n",
    "print(\"Palavras com acento, caracteres na palavra que são anteriores ao caracteres com acento:\", resultado3)"
   ]
  },
  {
   "cell_type": "code",
   "execution_count": 14,
   "id": "a9be66c3",
   "metadata": {},
   "outputs": [
    {
     "name": "stdout",
     "output_type": "stream",
     "text": [
      "Palavras com acento, caracteres na palavra que são anteriores ao caracteres com acento: ['nã', 'nã', 'dá', 'nã', 'histó', 'braç', 'dá', 'cansaç', 'nã', 'coraçã', 'televisã', 'mã', 'nã', 'memó', 'histó', 'já', 'nã', 'só', 'diá', 'nã', 'paixã', 'nã', 'coraçã', 'televisã', 'mã', 'nã', 'coraçã', 'televisã', 'mã', 'mã', 'mã']\n"
     ]
    }
   ],
   "source": [
    "# 5 - mostrando com acento\n",
    "resultado3 = re.findall(r'\\b[\\wÀ-Ÿ]+[áéíóúãõç]', musica)\n",
    "\n",
    "print(\"Palavras com acento, caracteres na palavra que são anteriores ao caracteres com acento:\", resultado3)"
   ]
  }
 ],
 "metadata": {
  "kernelspec": {
   "display_name": "Python 3 (ipykernel)",
   "language": "python",
   "name": "python3"
  },
  "language_info": {
   "codemirror_mode": {
    "name": "ipython",
    "version": 3
   },
   "file_extension": ".py",
   "mimetype": "text/x-python",
   "name": "python",
   "nbconvert_exporter": "python",
   "pygments_lexer": "ipython3",
   "version": "3.9.13"
  }
 },
 "nbformat": 4,
 "nbformat_minor": 5
}
