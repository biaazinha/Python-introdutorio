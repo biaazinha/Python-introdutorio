{
 "cells": [
  {
   "cell_type": "markdown",
   "id": "bd7eb352",
   "metadata": {},
   "source": [
    "# Manipulando arquivos CSV"
   ]
  },
  {
   "cell_type": "code",
   "execution_count": 1,
   "id": "1c94ff91",
   "metadata": {},
   "outputs": [],
   "source": [
    "# Importando o módulo csv\n",
    "import csv"
   ]
  },
  {
   "cell_type": "code",
   "execution_count": 2,
   "id": "72221f6b",
   "metadata": {},
   "outputs": [],
   "source": [
    "with open('arquivos/numeros.csv', 'w') as arquivo:\n",
    "    \n",
    "    #Cria o objeto de gravação\n",
    "    writer = csv.writer(arquivo)\n",
    "    \n",
    "    # Grava no arquivo linha a linha\n",
    "    writer.writerow(('nota1', 'nota2', 'nota3'))\n",
    "    writer.writerow((63,87,92))\n",
    "    writer.writerow((61,79,76))\n",
    "    writer.writerow((72,64,91))"
   ]
  },
  {
   "cell_type": "code",
   "execution_count": 6,
   "id": "4246398d",
   "metadata": {},
   "outputs": [
    {
     "name": "stdout",
     "output_type": "stream",
     "text": [
      "['nota1', 'nota2', 'nota3']\n",
      "['63', '87', '92']\n",
      "['61', '79', '76']\n",
      "['72', '64', '91']\n"
     ]
    }
   ],
   "source": [
    "# Leitura de arquivos csv\n",
    "\n",
    "with open('arquivos/numeros.csv', 'r', encoding = 'utf8', newline = '\\r\\n') as arquivo:\n",
    "    \n",
    "    # Cria o objeto de leitura\n",
    "    leitor = csv.reader(arquivo)\n",
    "    \n",
    "    # Loop que imprime cada linha do objeto\n",
    "    for x in leitor:\n",
    "        print(x)"
   ]
  },
  {
   "cell_type": "code",
   "execution_count": 9,
   "id": "3eb273bb",
   "metadata": {},
   "outputs": [],
   "source": [
    "# Gravando uma lista com dados do arquivo csv\n",
    "\n",
    "with open('arquivos/numeros.csv', 'r') as arquivo:\n",
    "    leitor = csv.reader(arquivo)\n",
    "    dados = list(leitor)"
   ]
  },
  {
   "cell_type": "code",
   "execution_count": 8,
   "id": "e5933dfe",
   "metadata": {},
   "outputs": [
    {
     "name": "stdout",
     "output_type": "stream",
     "text": [
      "[['nota1', 'nota2', 'nota3'], [], ['63', '87', '92'], [], ['61', '79', '76'], [], ['72', '64', '91'], []]\n"
     ]
    }
   ],
   "source": [
    "print(dados)"
   ]
  },
  {
   "cell_type": "code",
   "execution_count": 11,
   "id": "007ec70a",
   "metadata": {},
   "outputs": [
    {
     "name": "stdout",
     "output_type": "stream",
     "text": [
      "['63', '87', '92']\n",
      "['61', '79', '76']\n",
      "['72', '64', '91']\n"
     ]
    }
   ],
   "source": [
    "# Imprimindo a partir da segunda linha\n",
    "for linha in dados[1:]:\n",
    "    print(linha)"
   ]
  }
 ],
 "metadata": {
  "kernelspec": {
   "display_name": "Python 3 (ipykernel)",
   "language": "python",
   "name": "python3"
  },
  "language_info": {
   "codemirror_mode": {
    "name": "ipython",
    "version": 3
   },
   "file_extension": ".py",
   "mimetype": "text/x-python",
   "name": "python",
   "nbconvert_exporter": "python",
   "pygments_lexer": "ipython3",
   "version": "3.9.13"
  }
 },
 "nbformat": 4,
 "nbformat_minor": 5
}
