{
 "cells": [
  {
   "cell_type": "markdown",
   "id": "d75c8520",
   "metadata": {},
   "source": [
    "# List Comprehension"
   ]
  },
  {
   "cell_type": "markdown",
   "id": "18f34d7f",
   "metadata": {},
   "source": [
    "[expressão for item in iterable if condição==True]\n",
    "Loop dentro de uma lista"
   ]
  },
  {
   "cell_type": "code",
   "execution_count": 1,
   "id": "b2525a43",
   "metadata": {},
   "outputs": [
    {
     "data": {
      "text/plain": [
       "[0, 1, 2, 3, 4, 5, 6, 7, 8, 9]"
      ]
     },
     "execution_count": 1,
     "metadata": {},
     "output_type": "execute_result"
    }
   ],
   "source": [
    "# List Comprehension que imprime números até 10\n",
    "\n",
    "[x for x in range(10)]"
   ]
  },
  {
   "cell_type": "code",
   "execution_count": 2,
   "id": "4c4a8745",
   "metadata": {},
   "outputs": [],
   "source": [
    "# List Comprehension que imprime números até 10 e grava em uma lista\n",
    "\n",
    "lista_num = [x for x in range(10)]"
   ]
  },
  {
   "cell_type": "code",
   "execution_count": 3,
   "id": "62ac3889",
   "metadata": {},
   "outputs": [
    {
     "data": {
      "text/plain": [
       "[0, 1, 2, 3, 4, 5, 6, 7, 8, 9]"
      ]
     },
     "execution_count": 3,
     "metadata": {},
     "output_type": "execute_result"
    }
   ],
   "source": [
    "lista_num"
   ]
  },
  {
   "cell_type": "code",
   "execution_count": 4,
   "id": "23882559",
   "metadata": {},
   "outputs": [
    {
     "data": {
      "text/plain": [
       "[0, 1, 2, 3, 4]"
      ]
     },
     "execution_count": 4,
     "metadata": {},
     "output_type": "execute_result"
    }
   ],
   "source": [
    "# List Comprehension que imprime números menores que 5 em um intervalo de 1 a 10\n",
    "\n",
    "lista_numeros = [x for x in range(10) if x < 5]\n",
    "lista_numeros"
   ]
  },
  {
   "cell_type": "code",
   "execution_count": 5,
   "id": "e3c804e3",
   "metadata": {},
   "outputs": [],
   "source": [
    "lista_frutas = [\"banana\", \"abacate\", \"melancia\"]\n",
    "\n",
    "nova_lista = []"
   ]
  },
  {
   "cell_type": "code",
   "execution_count": 7,
   "id": "158c6f31",
   "metadata": {},
   "outputs": [
    {
     "name": "stdout",
     "output_type": "stream",
     "text": [
      "['melancia', 'melancia']\n"
     ]
    }
   ],
   "source": [
    "for x in lista_frutas:\n",
    "    if \"m\" in x:\n",
    "        nova_lista.append(x)\n",
    "\n",
    "print(nova_lista)"
   ]
  },
  {
   "cell_type": "code",
   "execution_count": 8,
   "id": "9a3180d5",
   "metadata": {},
   "outputs": [],
   "source": [
    "# Mesmo anterior mas com List Comprehension\n",
    "\n",
    "nova_lista = [x for x in lista_frutas if \"m\" in x]"
   ]
  },
  {
   "cell_type": "code",
   "execution_count": 9,
   "id": "9e018416",
   "metadata": {},
   "outputs": [
    {
     "data": {
      "text/plain": [
       "['melancia']"
      ]
     },
     "execution_count": 9,
     "metadata": {},
     "output_type": "execute_result"
    }
   ],
   "source": [
    "nova_lista"
   ]
  },
  {
   "cell_type": "code",
   "execution_count": 15,
   "id": "ef29cf56",
   "metadata": {},
   "outputs": [
    {
     "name": "stdout",
     "output_type": "stream",
     "text": [
      "{'Bob': 68, 'Michel': 84, 'Zico': 57}\n"
     ]
    }
   ],
   "source": [
    "#Dict comprehension \n",
    "\n",
    "# Dicionário de aluno e notas\n",
    "dict_alunos = {'Bob': 68, 'Michel': 84, 'Zico': 57}\n",
    "\n",
    "#Criamos um novo dicionário imprimindo os pares chave:valor\n",
    "dict_alunos_staus = {k:v for (k,v) in dict_alunos.items()}\n",
    "\n",
    "print(dict_alunos_staus)"
   ]
  },
  {
   "cell_type": "code",
   "execution_count": 16,
   "id": "5f6646d7",
   "metadata": {},
   "outputs": [
    {
     "name": "stdout",
     "output_type": "stream",
     "text": [
      "{'Bob': 'Reprovado', 'Michel': 'Aprovado', 'Zico': 'Reprovado', 'Ana': 'Aprovado'}\n"
     ]
    }
   ],
   "source": [
    "# Dicionário de aluno e notas\n",
    "dict_alunos = {'Bob': 68, 'Michel': 84, 'Zico': 57, 'Ana': 93}\n",
    "\n",
    "#Criamos um novo dicionário imprimindo os pares chave:valor\n",
    "dict_alunos_staus = {k:('Aprovado' if v > 70 else 'Reprovado') for (k,v) in dict_alunos.items()}\n",
    "\n",
    "print(dict_alunos_staus)"
   ]
  }
 ],
 "metadata": {
  "kernelspec": {
   "display_name": "Python 3 (ipykernel)",
   "language": "python",
   "name": "python3"
  },
  "language_info": {
   "codemirror_mode": {
    "name": "ipython",
    "version": 3
   },
   "file_extension": ".py",
   "mimetype": "text/x-python",
   "name": "python",
   "nbconvert_exporter": "python",
   "pygments_lexer": "ipython3",
   "version": "3.9.13"
  }
 },
 "nbformat": 4,
 "nbformat_minor": 5
}
