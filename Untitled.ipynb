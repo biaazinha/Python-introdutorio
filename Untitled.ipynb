{
 "cells": [
  {
   "cell_type": "markdown",
   "id": "6c2130b1",
   "metadata": {},
   "source": [
    "# Estruturas de dados - Listas"
   ]
  },
  {
   "cell_type": "code",
   "execution_count": 7,
   "id": "b86cad94",
   "metadata": {},
   "outputs": [
    {
     "data": {
      "text/plain": [
       "list"
      ]
     },
     "execution_count": 7,
     "metadata": {},
     "output_type": "execute_result"
    }
   ],
   "source": [
    "lista_1 = [\"arroz, feijão, tomate, alface\"]\n",
    "type(lista_1)"
   ]
  },
  {
   "cell_type": "code",
   "execution_count": 8,
   "id": "8317b618",
   "metadata": {},
   "outputs": [
    {
     "name": "stdout",
     "output_type": "stream",
     "text": [
      "['arroz, feijão, tomate, alface']\n"
     ]
    }
   ],
   "source": [
    "print(lista_1)"
   ]
  },
  {
   "cell_type": "code",
   "execution_count": 9,
   "id": "fd9283d0",
   "metadata": {},
   "outputs": [],
   "source": [
    "lista_2 = [\"arroz\", \"feijão\", \"tomate\", \"alface\"]"
   ]
  },
  {
   "cell_type": "code",
   "execution_count": 10,
   "id": "e76504b6",
   "metadata": {},
   "outputs": [
    {
     "name": "stdout",
     "output_type": "stream",
     "text": [
      "['arroz', 'feijão', 'tomate', 'alface']\n"
     ]
    }
   ],
   "source": [
    "print(lista_2)"
   ]
  },
  {
   "cell_type": "code",
   "execution_count": 11,
   "id": "8f21835d",
   "metadata": {},
   "outputs": [],
   "source": [
    "lista_3 = [2, 100, \"Python\"]"
   ]
  },
  {
   "cell_type": "code",
   "execution_count": 12,
   "id": "2b9ccb62",
   "metadata": {},
   "outputs": [
    {
     "name": "stdout",
     "output_type": "stream",
     "text": [
      "[2, 100, 'Python']\n"
     ]
    }
   ],
   "source": [
    "print(lista_3)"
   ]
  },
  {
   "cell_type": "code",
   "execution_count": 14,
   "id": "a077e257",
   "metadata": {},
   "outputs": [],
   "source": [
    "# Atribuindo cada valor da lista em uma variável\n",
    "item1 = lista_3[0]\n",
    "item2 = lista_3[1]\n",
    "item3 = lista_3[2]"
   ]
  },
  {
   "cell_type": "code",
   "execution_count": 15,
   "id": "8618242b",
   "metadata": {},
   "outputs": [
    {
     "name": "stdout",
     "output_type": "stream",
     "text": [
      "2 100 Python\n"
     ]
    }
   ],
   "source": [
    "print(item1, item2, item3)"
   ]
  },
  {
   "cell_type": "markdown",
   "id": "9d5f2a55",
   "metadata": {},
   "source": [
    "Atualizando um item da lista"
   ]
  },
  {
   "cell_type": "code",
   "execution_count": 16,
   "id": "a60c874a",
   "metadata": {},
   "outputs": [
    {
     "data": {
      "text/plain": [
       "'tomate'"
      ]
     },
     "execution_count": 16,
     "metadata": {},
     "output_type": "execute_result"
    }
   ],
   "source": [
    "lista_2[2]"
   ]
  },
  {
   "cell_type": "code",
   "execution_count": 17,
   "id": "68ce39d0",
   "metadata": {},
   "outputs": [],
   "source": [
    "lista_2[2] = \"chocolate\""
   ]
  },
  {
   "cell_type": "code",
   "execution_count": 19,
   "id": "c03441c6",
   "metadata": {},
   "outputs": [
    {
     "data": {
      "text/plain": [
       "['arroz', 'feijão', 'chocolate', 'alface']"
      ]
     },
     "execution_count": 19,
     "metadata": {},
     "output_type": "execute_result"
    }
   ],
   "source": [
    "lista_2"
   ]
  },
  {
   "cell_type": "code",
   "execution_count": null,
   "id": "c1db99c6",
   "metadata": {},
   "outputs": [],
   "source": []
  }
 ],
 "metadata": {
  "kernelspec": {
   "display_name": "Python 3 (ipykernel)",
   "language": "python",
   "name": "python3"
  },
  "language_info": {
   "codemirror_mode": {
    "name": "ipython",
    "version": 3
   },
   "file_extension": ".py",
   "mimetype": "text/x-python",
   "name": "python",
   "nbconvert_exporter": "python",
   "pygments_lexer": "ipython3",
   "version": "3.9.13"
  }
 },
 "nbformat": 4,
 "nbformat_minor": 5
}
