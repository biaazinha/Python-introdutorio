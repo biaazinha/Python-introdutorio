{
 "cells": [
  {
   "cell_type": "markdown",
   "id": "fc2154aa",
   "metadata": {},
   "source": [
    "# Funções usando outras funções"
   ]
  },
  {
   "cell_type": "code",
   "execution_count": 2,
   "id": "359fed26",
   "metadata": {},
   "outputs": [],
   "source": [
    "import math \n",
    "\n",
    "# Verificando se um número é primo\n",
    "def numPrimo(num):\n",
    "    if(num % 2) == 0 and num > 2:\n",
    "        return \"Este número é primo\"\n",
    "    for i in range(3, int(math.sqrt(num)) + 1, 2):\n",
    "        if (num % i) == 0:\n",
    "            return \"Este número não é primo\"\n",
    "    return \"Este número é primo\""
   ]
  },
  {
   "cell_type": "code",
   "execution_count": 3,
   "id": "06492544",
   "metadata": {},
   "outputs": [
    {
     "data": {
      "text/plain": [
       "'Este número é primo'"
      ]
     },
     "execution_count": 3,
     "metadata": {},
     "output_type": "execute_result"
    }
   ],
   "source": [
    "numPrimo(541)"
   ]
  },
  {
   "cell_type": "code",
   "execution_count": 9,
   "id": "d65ece11",
   "metadata": {},
   "outputs": [
    {
     "data": {
      "text/plain": [
       "'Este número não é primo'"
      ]
     },
     "execution_count": 9,
     "metadata": {},
     "output_type": "execute_result"
    }
   ],
   "source": [
    "numPrimo(9)"
   ]
  },
  {
   "cell_type": "code",
   "execution_count": 10,
   "id": "9371a23e",
   "metadata": {},
   "outputs": [],
   "source": [
    "caixa_baixa = \"ESTE TEXTO DEVE ESTAR TODO EM LOWER CASE\""
   ]
  },
  {
   "cell_type": "code",
   "execution_count": 12,
   "id": "0326dc5a",
   "metadata": {},
   "outputs": [],
   "source": [
    "def lowercase(text):\n",
    "    return text.lower()"
   ]
  },
  {
   "cell_type": "code",
   "execution_count": 13,
   "id": "986717da",
   "metadata": {},
   "outputs": [],
   "source": [
    "lowercase_string = lowercase(caixa_baixa)"
   ]
  },
  {
   "cell_type": "code",
   "execution_count": 14,
   "id": "74209c05",
   "metadata": {},
   "outputs": [
    {
     "data": {
      "text/plain": [
       "'este texto deve estar todo em lower case'"
      ]
     },
     "execution_count": 14,
     "metadata": {},
     "output_type": "execute_result"
    }
   ],
   "source": [
    "lowercase_string"
   ]
  },
  {
   "cell_type": "markdown",
   "id": "5b256f99",
   "metadata": {},
   "source": [
    "# Fazendo Split dos dados"
   ]
  },
  {
   "cell_type": "code",
   "execution_count": 15,
   "id": "249390a4",
   "metadata": {},
   "outputs": [],
   "source": [
    "def split_string(text):\n",
    "    return text.split(\" \")"
   ]
  },
  {
   "cell_type": "code",
   "execution_count": 16,
   "id": "ae4398a3",
   "metadata": {},
   "outputs": [],
   "source": [
    "texto = \"Esta função é útil\""
   ]
  },
  {
   "cell_type": "code",
   "execution_count": 18,
   "id": "508560fd",
   "metadata": {},
   "outputs": [
    {
     "name": "stdout",
     "output_type": "stream",
     "text": [
      "['Esta', 'função', 'é', 'útil']\n"
     ]
    }
   ],
   "source": [
    "print(split_string(texto))"
   ]
  },
  {
   "cell_type": "code",
   "execution_count": 19,
   "id": "8cccdb56",
   "metadata": {},
   "outputs": [
    {
     "data": {
      "text/plain": [
       "['Esta', 'função', 'é', 'útil']"
      ]
     },
     "execution_count": 19,
     "metadata": {},
     "output_type": "execute_result"
    }
   ],
   "source": [
    "token = split_string(texto)\n",
    "token"
   ]
  },
  {
   "cell_type": "code",
   "execution_count": 20,
   "id": "b2b8964f",
   "metadata": {},
   "outputs": [],
   "source": [
    "def split_letras(text):\n",
    "    texto = text.upper()\n",
    "    for letra in texto:\n",
    "        print(letra)"
   ]
  },
  {
   "cell_type": "code",
   "execution_count": 21,
   "id": "77ce9847",
   "metadata": {},
   "outputs": [
    {
     "name": "stdout",
     "output_type": "stream",
     "text": [
      "E\n",
      "S\n",
      "T\n",
      "A\n",
      " \n",
      "F\n",
      "U\n",
      "N\n",
      "Ç\n",
      "Ã\n",
      "O\n",
      " \n",
      "É\n",
      " \n",
      "Ú\n",
      "T\n",
      "I\n",
      "L\n"
     ]
    }
   ],
   "source": [
    "split_letras(texto)"
   ]
  }
 ],
 "metadata": {
  "kernelspec": {
   "display_name": "Python 3 (ipykernel)",
   "language": "python",
   "name": "python3"
  },
  "language_info": {
   "codemirror_mode": {
    "name": "ipython",
    "version": 3
   },
   "file_extension": ".py",
   "mimetype": "text/x-python",
   "name": "python",
   "nbconvert_exporter": "python",
   "pygments_lexer": "ipython3",
   "version": "3.9.13"
  }
 },
 "nbformat": 4,
 "nbformat_minor": 5
}
