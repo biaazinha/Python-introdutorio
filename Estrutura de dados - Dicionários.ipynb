{
 "cells": [
  {
   "cell_type": "markdown",
   "id": "b54c7d3c",
   "metadata": {},
   "source": [
    "# Estrutura de dados - Dicionários "
   ]
  },
  {
   "cell_type": "code",
   "execution_count": 1,
   "id": "486e4cf4",
   "metadata": {},
   "outputs": [
    {
     "data": {
      "text/plain": [
       "['Pedro', 24, 'Ana', 22, 'João', 26]"
      ]
     },
     "execution_count": 1,
     "metadata": {},
     "output_type": "execute_result"
    }
   ],
   "source": [
    "estudantes = [\"Pedro\", 24, \"Ana\", 22, \"João\", 26]\n",
    "estudantes"
   ]
  },
  {
   "cell_type": "code",
   "execution_count": 2,
   "id": "34a10403",
   "metadata": {
    "scrolled": true
   },
   "outputs": [
    {
     "data": {
      "text/plain": [
       "{'Pedro': 24, 'Ana': 22, 'João': 26}"
      ]
     },
     "execution_count": 2,
     "metadata": {},
     "output_type": "execute_result"
    }
   ],
   "source": [
    "# Dicionário\n",
    "estudantes_dic = {\"Pedro\":24, \"Ana\":22, \"João\":26}\n",
    "estudantes_dic"
   ]
  },
  {
   "cell_type": "code",
   "execution_count": 4,
   "id": "86cd6e89",
   "metadata": {},
   "outputs": [
    {
     "data": {
      "text/plain": [
       "26"
      ]
     },
     "execution_count": 4,
     "metadata": {},
     "output_type": "execute_result"
    }
   ],
   "source": [
    "estudantes_dic[\"João\"]"
   ]
  },
  {
   "cell_type": "code",
   "execution_count": 6,
   "id": "e29a21c4",
   "metadata": {},
   "outputs": [
    {
     "data": {
      "text/plain": [
       "20"
      ]
     },
     "execution_count": 6,
     "metadata": {},
     "output_type": "execute_result"
    }
   ],
   "source": [
    "estudantes_dic[\"Bia\"] = 20\n",
    "estudantes_dic[\"Bia\"]"
   ]
  },
  {
   "cell_type": "code",
   "execution_count": 7,
   "id": "075dde65",
   "metadata": {},
   "outputs": [
    {
     "data": {
      "text/plain": [
       "{'Pedro': 24, 'Ana': 22, 'João': 26, 'Bia': 20}"
      ]
     },
     "execution_count": 7,
     "metadata": {},
     "output_type": "execute_result"
    }
   ],
   "source": [
    "estudantes_dic"
   ]
  },
  {
   "cell_type": "code",
   "execution_count": 8,
   "id": "507b1f3d",
   "metadata": {},
   "outputs": [],
   "source": [
    "estudantes_dic.clear()"
   ]
  },
  {
   "cell_type": "code",
   "execution_count": 9,
   "id": "0dd4d719",
   "metadata": {},
   "outputs": [
    {
     "data": {
      "text/plain": [
       "{}"
      ]
     },
     "execution_count": 9,
     "metadata": {},
     "output_type": "execute_result"
    }
   ],
   "source": [
    "estudantes_dic"
   ]
  },
  {
   "cell_type": "code",
   "execution_count": 10,
   "id": "618efbd2",
   "metadata": {},
   "outputs": [],
   "source": [
    "del estudantes_dic"
   ]
  },
  {
   "cell_type": "code",
   "execution_count": 15,
   "id": "767d220a",
   "metadata": {},
   "outputs": [
    {
     "data": {
      "text/plain": [
       "{'Pedro': 24, 'Ana': 22, 'João': 26}"
      ]
     },
     "execution_count": 15,
     "metadata": {},
     "output_type": "execute_result"
    }
   ],
   "source": [
    "estudantes = {\"Pedro\":24, \"Ana\":22, \"João\":26}\n",
    "estudantes"
   ]
  },
  {
   "cell_type": "code",
   "execution_count": 16,
   "id": "cce9cce6",
   "metadata": {},
   "outputs": [
    {
     "data": {
      "text/plain": [
       "3"
      ]
     },
     "execution_count": 16,
     "metadata": {},
     "output_type": "execute_result"
    }
   ],
   "source": [
    "len(estudantes)"
   ]
  },
  {
   "cell_type": "code",
   "execution_count": 17,
   "id": "56790df2",
   "metadata": {},
   "outputs": [
    {
     "data": {
      "text/plain": [
       "dict_keys(['Pedro', 'Ana', 'João'])"
      ]
     },
     "execution_count": 17,
     "metadata": {},
     "output_type": "execute_result"
    }
   ],
   "source": [
    "estudantes.keys()"
   ]
  },
  {
   "cell_type": "code",
   "execution_count": 18,
   "id": "b5bd682f",
   "metadata": {},
   "outputs": [
    {
     "data": {
      "text/plain": [
       "dict_values([24, 22, 26])"
      ]
     },
     "execution_count": 18,
     "metadata": {},
     "output_type": "execute_result"
    }
   ],
   "source": [
    "estudantes.values()"
   ]
  },
  {
   "cell_type": "code",
   "execution_count": 20,
   "id": "d0781810",
   "metadata": {},
   "outputs": [
    {
     "data": {
      "text/plain": [
       "dict_items([('Pedro', 24), ('Ana', 22), ('João', 26)])"
      ]
     },
     "execution_count": 20,
     "metadata": {},
     "output_type": "execute_result"
    }
   ],
   "source": [
    "estudantes.items()"
   ]
  },
  {
   "cell_type": "code",
   "execution_count": 21,
   "id": "d9417f3a",
   "metadata": {},
   "outputs": [],
   "source": [
    "estudantes2 = {\"Bia\":24, \"Marcos\":22, \"Camila\":26}"
   ]
  },
  {
   "cell_type": "code",
   "execution_count": 22,
   "id": "16baac1f",
   "metadata": {},
   "outputs": [],
   "source": [
    "estudantes.update(estudantes2)"
   ]
  },
  {
   "cell_type": "code",
   "execution_count": 23,
   "id": "4e6d01b0",
   "metadata": {},
   "outputs": [
    {
     "data": {
      "text/plain": [
       "{'Pedro': 24, 'Ana': 22, 'João': 26, 'Bia': 24, 'Marcos': 22, 'Camila': 26}"
      ]
     },
     "execution_count": 23,
     "metadata": {},
     "output_type": "execute_result"
    }
   ],
   "source": [
    "estudantes"
   ]
  },
  {
   "cell_type": "code",
   "execution_count": 24,
   "id": "597aa31f",
   "metadata": {},
   "outputs": [],
   "source": [
    "dic1 = {}"
   ]
  },
  {
   "cell_type": "code",
   "execution_count": 25,
   "id": "7d4f4635",
   "metadata": {},
   "outputs": [],
   "source": [
    "dic1[\"chave_um\"] = 2"
   ]
  },
  {
   "cell_type": "code",
   "execution_count": 26,
   "id": "dd5cefc2",
   "metadata": {},
   "outputs": [],
   "source": [
    "dic1[10] = 5"
   ]
  },
  {
   "cell_type": "code",
   "execution_count": 28,
   "id": "9f9fd322",
   "metadata": {},
   "outputs": [],
   "source": [
    "dic1[9.13] = \"Oi\""
   ]
  },
  {
   "cell_type": "code",
   "execution_count": 29,
   "id": "30e0fc25",
   "metadata": {},
   "outputs": [
    {
     "data": {
      "text/plain": [
       "{'chave_um': 2, 10: 5, 9.13: 'Oi'}"
      ]
     },
     "execution_count": 29,
     "metadata": {},
     "output_type": "execute_result"
    }
   ],
   "source": [
    "dic1"
   ]
  },
  {
   "cell_type": "markdown",
   "id": "57bf33f6",
   "metadata": {},
   "source": [
    " Atribuindo valores de chaves dentro de variáveis"
   ]
  },
  {
   "cell_type": "code",
   "execution_count": 35,
   "id": "a0659e5e",
   "metadata": {},
   "outputs": [],
   "source": [
    "dict1 = {}"
   ]
  },
  {
   "cell_type": "code",
   "execution_count": 38,
   "id": "aaacddd0",
   "metadata": {},
   "outputs": [
    {
     "data": {
      "text/plain": [
       "{'key1': 1, 'key2': 10, 'key3': 100}"
      ]
     },
     "execution_count": 38,
     "metadata": {},
     "output_type": "execute_result"
    }
   ],
   "source": [
    "dict1[\"key1\"] = 1\n",
    "dict1[\"key2\"] = 10\n",
    "dict1[\"key3\"] = 100\n",
    "dict1"
   ]
  },
  {
   "cell_type": "code",
   "execution_count": 39,
   "id": "f6b8eb7e",
   "metadata": {},
   "outputs": [],
   "source": [
    "a = dict1[\"key1\"]\n",
    "b = dict1[\"key2\"]\n",
    "c = dict1[\"key3\"]"
   ]
  },
  {
   "cell_type": "code",
   "execution_count": 40,
   "id": "a3b1286b",
   "metadata": {},
   "outputs": [
    {
     "data": {
      "text/plain": [
       "(1, 10, 100)"
      ]
     },
     "execution_count": 40,
     "metadata": {},
     "output_type": "execute_result"
    }
   ],
   "source": [
    "a, b, c"
   ]
  },
  {
   "cell_type": "markdown",
   "id": "6b58b664",
   "metadata": {},
   "source": [
    "Dicionário de listas"
   ]
  },
  {
   "cell_type": "code",
   "execution_count": 42,
   "id": "ad0a67e0",
   "metadata": {},
   "outputs": [
    {
     "data": {
      "text/plain": [
       "{'chave': 123, 'chave2': [22, 23, 24], 'chave3': ['arroz', 'feijão']}"
      ]
     },
     "execution_count": 42,
     "metadata": {},
     "output_type": "execute_result"
    }
   ],
   "source": [
    "dict2 = {'chave':123, 'chave2':[22,23,24], 'chave3':['arroz', 'feijão']}\n",
    "dict2"
   ]
  },
  {
   "cell_type": "code",
   "execution_count": 43,
   "id": "72fb8c85",
   "metadata": {},
   "outputs": [
    {
     "data": {
      "text/plain": [
       "[22, 23, 24]"
      ]
     },
     "execution_count": 43,
     "metadata": {},
     "output_type": "execute_result"
    }
   ],
   "source": [
    "dict2['chave2']"
   ]
  },
  {
   "cell_type": "code",
   "execution_count": 45,
   "id": "a8208fcc",
   "metadata": {},
   "outputs": [
    {
     "data": {
      "text/plain": [
       "'ARROZ'"
      ]
     },
     "execution_count": 45,
     "metadata": {},
     "output_type": "execute_result"
    }
   ],
   "source": [
    "# Acessando um item da lista, dentro do dicionário\n",
    "# CRIATIVIDADE = chamei o dic, na chave3, no indice 0, em maiúsculo\n",
    "\n",
    "dict2['chave3'][0].upper()"
   ]
  },
  {
   "cell_type": "code",
   "execution_count": 46,
   "id": "3e343421",
   "metadata": {},
   "outputs": [
    {
     "data": {
      "text/plain": [
       "20"
      ]
     },
     "execution_count": 46,
     "metadata": {},
     "output_type": "execute_result"
    }
   ],
   "source": [
    "# Operações com itens da lista, dentro do dicionário\n",
    "\n",
    "var1 = dict2['chave2'][0] - 2\n",
    "var1"
   ]
  },
  {
   "cell_type": "code",
   "execution_count": 50,
   "id": "3448a6a1",
   "metadata": {
    "scrolled": true
   },
   "outputs": [
    {
     "data": {
      "text/plain": [
       "{'chave': 123, 'chave2': [20, 23, 24], 'chave3': ['arroz', 'feijão']}"
      ]
     },
     "execution_count": 50,
     "metadata": {},
     "output_type": "execute_result"
    }
   ],
   "source": [
    "# Duas operações no mesmo comando, para atualizar um item dentro da lista\n",
    "\n",
    "dict2['chave2'][0] -= 2\n",
    "dict2"
   ]
  },
  {
   "cell_type": "markdown",
   "id": "259c2d21",
   "metadata": {},
   "source": [
    "Criando dicionários aninhados"
   ]
  },
  {
   "cell_type": "code",
   "execution_count": 54,
   "id": "9ed1d83f",
   "metadata": {},
   "outputs": [],
   "source": [
    "dict_aninhado = { 'key1':{'key2_aninhada':{'key3_aninhada':'Dict aninhada'}}}"
   ]
  },
  {
   "cell_type": "code",
   "execution_count": 55,
   "id": "d6c4e075",
   "metadata": {},
   "outputs": [
    {
     "data": {
      "text/plain": [
       "{'key1': {'key2_aninhada': {'key3_aninhada': 'Dict aninhada'}}}"
      ]
     },
     "execution_count": 55,
     "metadata": {},
     "output_type": "execute_result"
    }
   ],
   "source": [
    "dict_aninhado"
   ]
  },
  {
   "cell_type": "code",
   "execution_count": 56,
   "id": "1c0a9fd6",
   "metadata": {},
   "outputs": [
    {
     "data": {
      "text/plain": [
       "'Dict aninhada'"
      ]
     },
     "execution_count": 56,
     "metadata": {},
     "output_type": "execute_result"
    }
   ],
   "source": [
    "dict_aninhado['key1']['key2_aninhada']['key3_aninhada']"
   ]
  }
 ],
 "metadata": {
  "kernelspec": {
   "display_name": "Python 3 (ipykernel)",
   "language": "python",
   "name": "python3"
  },
  "language_info": {
   "codemirror_mode": {
    "name": "ipython",
    "version": 3
   },
   "file_extension": ".py",
   "mimetype": "text/x-python",
   "name": "python",
   "nbconvert_exporter": "python",
   "pygments_lexer": "ipython3",
   "version": "3.9.13"
  }
 },
 "nbformat": 4,
 "nbformat_minor": 5
}
