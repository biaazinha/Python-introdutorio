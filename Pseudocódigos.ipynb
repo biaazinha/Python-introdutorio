{
 "cells": [
  {
   "cell_type": "markdown",
   "id": "8fa25262",
   "metadata": {},
   "source": [
    "# Pseudocódigo 1 - Calcular a área de um paralelograma"
   ]
  },
  {
   "cell_type": "markdown",
   "id": "ec053761",
   "metadata": {},
   "source": [
    "Peça para o usuário inserir o comprimento da base\n",
    "Armazene o comprimento da base em uma variável\n",
    "Peça para o usuário inserir a altura\n",
    "Armazene a altura em uma variável\n",
    "Calcule a área do paralelograma: base * altura\n",
    "Armazene o resultado em uma variável\n",
    "Exiba o resultado"
   ]
  },
  {
   "cell_type": "code",
   "execution_count": 2,
   "id": "5fd2662e",
   "metadata": {},
   "outputs": [
    {
     "name": "stdout",
     "output_type": "stream",
     "text": [
      "Insira o comprimento da basee: 2\n"
     ]
    }
   ],
   "source": [
    "base = float(input(\"Insira o comprimento da basee: \"))"
   ]
  },
  {
   "cell_type": "code",
   "execution_count": 4,
   "id": "139d937f",
   "metadata": {},
   "outputs": [
    {
     "name": "stdout",
     "output_type": "stream",
     "text": [
      "Insira a altura: 3\n"
     ]
    }
   ],
   "source": [
    "altura = float(input(\"Insira a altura: \"))"
   ]
  },
  {
   "cell_type": "code",
   "execution_count": 5,
   "id": "0c46c8bf",
   "metadata": {},
   "outputs": [],
   "source": [
    "area = base * altura"
   ]
  },
  {
   "cell_type": "code",
   "execution_count": 6,
   "id": "2889d72f",
   "metadata": {},
   "outputs": [
    {
     "name": "stdout",
     "output_type": "stream",
     "text": [
      "A área do paralelograma é:  6.0\n"
     ]
    }
   ],
   "source": [
    "print(\"A área do paralelograma é: \", area)"
   ]
  },
  {
   "cell_type": "markdown",
   "id": "b1caa757",
   "metadata": {},
   "source": [
    "# Pseudocódigo 2 - Calculadora simples"
   ]
  },
  {
   "cell_type": "markdown",
   "id": "2f7eb8ed",
   "metadata": {},
   "source": [
    "Peça para o usuário inserir o primeiro número\n",
    "Armazene o primeiro número em uma variável\n",
    "Peça para o usuário inserir o segundo número\n",
    "Armazene o segundo número em uma variável\n",
    "Peça para o usuário selecionar uma operação (+, -, *, /)\n",
    "Armazene a operação em uma variável\n",
    "Utilize a operação selecionada e os número armazenados para realizar o cálculo\n",
    "Exiba o resultado"
   ]
  },
  {
   "cell_type": "code",
   "execution_count": 7,
   "id": "224d51d5",
   "metadata": {},
   "outputs": [
    {
     "name": "stdout",
     "output_type": "stream",
     "text": [
      "Insira o primeiro número: 2\n"
     ]
    }
   ],
   "source": [
    "num1 = float(input(\"Insira o primeiro número: \"))"
   ]
  },
  {
   "cell_type": "code",
   "execution_count": 8,
   "id": "123803e9",
   "metadata": {},
   "outputs": [
    {
     "name": "stdout",
     "output_type": "stream",
     "text": [
      "Insira o segundo número: 5\n"
     ]
    }
   ],
   "source": [
    "num2 = float(input(\"Insira o segundo número: \"))"
   ]
  },
  {
   "cell_type": "code",
   "execution_count": 9,
   "id": "e1fdbfa1",
   "metadata": {},
   "outputs": [
    {
     "name": "stdout",
     "output_type": "stream",
     "text": [
      "Selecione uma operação (+, -, *, /): *\n"
     ]
    }
   ],
   "source": [
    "operacao = input(\"Selecione uma operação (+, -, *, /): \")"
   ]
  },
  {
   "cell_type": "code",
   "execution_count": 14,
   "id": "16532181",
   "metadata": {},
   "outputs": [
    {
     "name": "stdout",
     "output_type": "stream",
     "text": [
      "O resultado é:  10.0\n"
     ]
    }
   ],
   "source": [
    "if operacao == \"+\":\n",
    "        resultado = num1 + num2\n",
    "        print(\"O resultado é: \", resultado)\n",
    "\n",
    "elif operacao == \"-\":\n",
    "        resultado = num1 - num2\n",
    "        print(\"O resultado é: \", resultado)\n",
    "        \n",
    "elif operacao == \"*\":\n",
    "        resultado = num1 * num2\n",
    "        print(\"O resultado é: \", resultado)\n",
    "        \n",
    "elif operacao == \"/\":\n",
    "        resultado = num1 / num2\n",
    "        print(\"O resultado é: \", resultado)\n",
    "        \n",
    "else:\n",
    "        print(\"Operação inválida.\")"
   ]
  },
  {
   "cell_type": "markdown",
   "id": "3c71abc1",
   "metadata": {},
   "source": [
    "# Pseudocódigo 3 - Algorítimo Bubble Sort"
   ]
  },
  {
   "cell_type": "markdown",
   "id": "9347423d",
   "metadata": {},
   "source": [
    "Para cada elemento i no array de tamanho n\n",
    "Para cada elemento j no array de tamanho n - 1\n",
    "Se o elemento i for maior que o elemento j\n",
    "Troque os elemento i e j\n",
    "Exiba o array ordenado"
   ]
  },
  {
   "cell_type": "code",
   "execution_count": 1,
   "id": "d91fc9ab",
   "metadata": {},
   "outputs": [],
   "source": [
    "lista = [6,7,8,3,10,19,4,1,0,61,30,16,17,82,29,34]"
   ]
  },
  {
   "cell_type": "code",
   "execution_count": 5,
   "id": "9d7286c1",
   "metadata": {},
   "outputs": [],
   "source": [
    "def bubble_sort(arr):\n",
    "    \n",
    "    n = len(arr)\n",
    "    \n",
    "    # Para cada elemento i do array\n",
    "    for i in range(n):\n",
    "        \n",
    "        # Para cada elemento j do array\n",
    "        for j in range(0, n-i-1):\n",
    "            \n",
    "            # Se o elemento i for maior que o elemento j\n",
    "            if arr[j] > arr[j+1]:\n",
    "            \n",
    "                # Troque os elementos i e j\n",
    "                arr[j], arr[j+1] = arr[j+1], arr[j]\n",
    "            \n",
    "    return arr"
   ]
  },
  {
   "cell_type": "code",
   "execution_count": 6,
   "id": "a8004240",
   "metadata": {},
   "outputs": [
    {
     "name": "stdout",
     "output_type": "stream",
     "text": [
      "[0, 1, 3, 4, 6, 7, 8, 10, 16, 17, 19, 29, 30, 34, 61, 82]\n"
     ]
    }
   ],
   "source": [
    "print(bubble_sort(lista))"
   ]
  },
  {
   "cell_type": "code",
   "execution_count": null,
   "id": "ded62103",
   "metadata": {},
   "outputs": [],
   "source": []
  }
 ],
 "metadata": {
  "kernelspec": {
   "display_name": "Python 3 (ipykernel)",
   "language": "python",
   "name": "python3"
  },
  "language_info": {
   "codemirror_mode": {
    "name": "ipython",
    "version": 3
   },
   "file_extension": ".py",
   "mimetype": "text/x-python",
   "name": "python",
   "nbconvert_exporter": "python",
   "pygments_lexer": "ipython3",
   "version": "3.9.13"
  }
 },
 "nbformat": 4,
 "nbformat_minor": 5
}
