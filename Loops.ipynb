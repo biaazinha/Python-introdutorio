{
 "cells": [
  {
   "cell_type": "markdown",
   "id": "641f5841",
   "metadata": {},
   "source": [
    "\n",
    "# Loop"
   ]
  },
  {
   "cell_type": "code",
   "execution_count": 1,
   "id": "4fe80968",
   "metadata": {},
   "outputs": [
    {
     "name": "stdout",
     "output_type": "stream",
     "text": [
      "2\n",
      "3\n",
      "4\n"
     ]
    }
   ],
   "source": [
    "# Criando uma tupla e imprimindo cada um dos valores\n",
    "\n",
    "tp = (2, 3, 4)\n",
    "for i in tp:\n",
    "    print(i)"
   ]
  },
  {
   "cell_type": "code",
   "execution_count": 2,
   "id": "b16f2d6b",
   "metadata": {},
   "outputs": [
    {
     "name": "stdout",
     "output_type": "stream",
     "text": [
      "Data\n",
      "Science\n"
     ]
    }
   ],
   "source": [
    "lista = [\"Data\", \"Science\"]\n",
    "for i in lista:\n",
    "    print(i)"
   ]
  },
  {
   "cell_type": "code",
   "execution_count": 3,
   "id": "61b04aa6",
   "metadata": {},
   "outputs": [
    {
     "name": "stdout",
     "output_type": "stream",
     "text": [
      "0\n",
      "1\n",
      "2\n",
      "3\n",
      "4\n"
     ]
    }
   ],
   "source": [
    "for contador in range(0,5):\n",
    "    print(contador)"
   ]
  },
  {
   "cell_type": "code",
   "execution_count": 4,
   "id": "6297995b",
   "metadata": {},
   "outputs": [
    {
     "name": "stdout",
     "output_type": "stream",
     "text": [
      "2\n",
      "4\n",
      "6\n",
      "8\n"
     ]
    }
   ],
   "source": [
    "lista = [1,2,3,4,5,6,7,8,9]\n",
    "for num in lista:\n",
    "    if num % 2 == 0:\n",
    "        print(num)"
   ]
  },
  {
   "cell_type": "code",
   "execution_count": 5,
   "id": "c7cb70ed",
   "metadata": {},
   "outputs": [
    {
     "name": "stdout",
     "output_type": "stream",
     "text": [
      "0\n",
      "2\n",
      "4\n",
      "6\n",
      "8\n",
      "10\n",
      "12\n",
      "14\n",
      "16\n",
      "18\n",
      "20\n",
      "22\n",
      "24\n",
      "26\n",
      "28\n",
      "30\n",
      "32\n",
      "34\n",
      "36\n",
      "38\n",
      "40\n",
      "42\n",
      "44\n",
      "46\n",
      "48\n",
      "50\n"
     ]
    }
   ],
   "source": [
    "# De 0 até 50, pulando de 2 em 2\n",
    "\n",
    "for i in range(0,51,2):\n",
    "    print(i)"
   ]
  },
  {
   "cell_type": "code",
   "execution_count": 6,
   "id": "d6f781fb",
   "metadata": {},
   "outputs": [
    {
     "name": "stdout",
     "output_type": "stream",
     "text": [
      "P\n",
      "y\n",
      "t\n",
      "h\n",
      "o\n",
      "n\n",
      " \n",
      "é\n",
      " \n",
      "d\n",
      "i\n",
      "v\n",
      "e\n",
      "r\n",
      "t\n",
      "i\n",
      "d\n",
      "o\n"
     ]
    }
   ],
   "source": [
    "for caracter in 'Python é divertido':\n",
    "    print(caracter)"
   ]
  },
  {
   "cell_type": "markdown",
   "id": "f0b5486d",
   "metadata": {},
   "source": [
    "Loop for aninhado"
   ]
  },
  {
   "cell_type": "code",
   "execution_count": 7,
   "id": "8cdd169e",
   "metadata": {},
   "outputs": [
    {
     "name": "stdout",
     "output_type": "stream",
     "text": [
      "\n",
      " 0\n",
      "\n",
      " 0\n",
      "\n",
      " 0\n",
      "-----\n",
      "\n",
      " 1\n",
      "\n",
      " 2\n",
      "\n",
      " 3\n",
      "-----\n",
      "\n",
      " 2\n",
      "\n",
      " 4\n",
      "\n",
      " 6\n",
      "-----\n",
      "\n",
      " 3\n",
      "\n",
      " 6\n",
      "\n",
      " 9\n",
      "-----\n",
      "\n",
      " 4\n",
      "\n",
      " 8\n",
      "\n",
      " 12\n",
      "-----\n"
     ]
    }
   ],
   "source": [
    "lista1 = [0,1,2,3,4]\n",
    "lista2 = [1,2,3]\n",
    "\n",
    "for elemento_lista1 in lista1:\n",
    "    for elemento_lista2 in lista2:\n",
    "        print('\\n', elemento_lista1 * elemento_lista2)\n",
    "    print('-----')"
   ]
  },
  {
   "cell_type": "code",
   "execution_count": 8,
   "id": "27681d82",
   "metadata": {},
   "outputs": [
    {
     "name": "stdout",
     "output_type": "stream",
     "text": [
      "O número 47 está presente nas duas listas\n"
     ]
    }
   ],
   "source": [
    "lista1 = [10,16,24,39,47]\n",
    "lista2 = [32,89,47,76,12]\n",
    "\n",
    "for elemento_lista1 in lista1:\n",
    "    for elemento_lista2 in lista2:\n",
    "        if elemento_lista1 == 47 and elemento_lista2 == 47:\n",
    "            print('O número 47 está presente nas duas listas')"
   ]
  },
  {
   "cell_type": "code",
   "execution_count": 9,
   "id": "9de4529c",
   "metadata": {},
   "outputs": [
    {
     "name": "stdout",
     "output_type": "stream",
     "text": [
      "A soma dos números pares das duas listas é igual a 170\n"
     ]
    }
   ],
   "source": [
    "lista1 = [10,16,24,39,47]\n",
    "lista2 = [32,89,47,76,12]\n",
    "soma = 0\n",
    "\n",
    "for lista in [lista1, lista2]:\n",
    "    for num in lista:\n",
    "        if num % 2 == 0:\n",
    "            soma += num\n",
    "            \n",
    "print(\"A soma dos números pares das duas listas é igual a\", soma)"
   ]
  },
  {
   "cell_type": "code",
   "execution_count": 10,
   "id": "91e8a87e",
   "metadata": {},
   "outputs": [
    {
     "name": "stdout",
     "output_type": "stream",
     "text": [
      "A soma dos números pares das duas listas é igual a 170\n"
     ]
    }
   ],
   "source": [
    "lista1 = [10,16,24,39,47]\n",
    "lista2 = [32,89,47,76,12]\n",
    "soma = 0\n",
    "\n",
    "# concatenando listas\n",
    "for num in lista1 + lista2:\n",
    "    if num % 2 == 0:\n",
    "        soma += num\n",
    "            \n",
    "print(\"A soma dos números pares das duas listas é igual a\", soma)"
   ]
  },
  {
   "cell_type": "code",
   "execution_count": 11,
   "id": "56d35efd",
   "metadata": {},
   "outputs": [
    {
     "name": "stdout",
     "output_type": "stream",
     "text": [
      "Maior número é 215\n"
     ]
    }
   ],
   "source": [
    "matriz = [[42, 23, 34], [100,215,114], [10.1, 98.7, 12.3]]\n",
    "maior_num = 0\n",
    "\n",
    "for linha in matriz:\n",
    "    for num in linha:\n",
    "        if num > maior_num:\n",
    "            maior_num = num\n",
    "            \n",
    "print(\"Maior número é\", maior_num)"
   ]
  },
  {
   "cell_type": "code",
   "execution_count": 12,
   "id": "c1bcb203",
   "metadata": {},
   "outputs": [
    {
     "name": "stdout",
     "output_type": "stream",
     "text": [
      "k1\n",
      "k2\n",
      "k3\n"
     ]
    }
   ],
   "source": [
    "dict = {'k1':'Python', 'k2':'R','k3':'Scala'}\n",
    "for item in dict:\n",
    "    print(item)"
   ]
  },
  {
   "cell_type": "code",
   "execution_count": 13,
   "id": "de9f0c22",
   "metadata": {},
   "outputs": [
    {
     "name": "stdout",
     "output_type": "stream",
     "text": [
      "k1 Python\n",
      "k2 R\n",
      "k3 Scala\n"
     ]
    }
   ],
   "source": [
    "for k,v in dict.items():\n",
    "    print(k,v)"
   ]
  },
  {
   "cell_type": "markdown",
   "id": "11fa9af0",
   "metadata": {},
   "source": [
    "loop while"
   ]
  },
  {
   "cell_type": "code",
   "execution_count": 14,
   "id": "4dbfa198",
   "metadata": {
    "scrolled": true
   },
   "outputs": [
    {
     "name": "stdout",
     "output_type": "stream",
     "text": [
      "0\n",
      "1\n",
      "2\n",
      "3\n",
      "4\n",
      "5\n",
      "6\n",
      "7\n",
      "8\n",
      "9\n",
      "10\n"
     ]
    }
   ],
   "source": [
    "valor = 0\n",
    "while valor <= 10:\n",
    "    print(valor)\n",
    "    valor = valor + 1"
   ]
  },
  {
   "cell_type": "code",
   "execution_count": 15,
   "id": "cc96aa4d",
   "metadata": {},
   "outputs": [
    {
     "name": "stdout",
     "output_type": "stream",
     "text": [
      "O valor de x é:  0\n",
      " x ainda é menor que 10, somando 1 a x\n",
      "O valor de x é:  1\n",
      " x ainda é menor que 10, somando 1 a x\n",
      "O valor de x é:  2\n",
      " x ainda é menor que 10, somando 1 a x\n",
      "O valor de x é:  3\n",
      " x ainda é menor que 10, somando 1 a x\n",
      "O valor de x é:  4\n",
      " x ainda é menor que 10, somando 1 a x\n",
      "O valor de x é:  5\n",
      " x ainda é menor que 10, somando 1 a x\n",
      "O valor de x é:  6\n",
      " x ainda é menor que 10, somando 1 a x\n",
      "O valor de x é:  7\n",
      " x ainda é menor que 10, somando 1 a x\n",
      "O valor de x é:  8\n",
      " x ainda é menor que 10, somando 1 a x\n",
      "O valor de x é:  9\n",
      " x ainda é menor que 10, somando 1 a x\n",
      "Loop concluído\n",
      "10\n"
     ]
    }
   ],
   "source": [
    "x = 0\n",
    "\n",
    "while x < 10:\n",
    "    print('O valor de x é: ', x)\n",
    "    print(' x ainda é menor que 10, somando 1 a x')\n",
    "    x += 1\n",
    "else:\n",
    "    print('Loop concluído')\n",
    "print(x)"
   ]
  },
  {
   "cell_type": "markdown",
   "id": "7003f015",
   "metadata": {},
   "source": [
    "Pass, break, continue"
   ]
  },
  {
   "cell_type": "code",
   "execution_count": 16,
   "id": "a247adb0",
   "metadata": {},
   "outputs": [
    {
     "name": "stdout",
     "output_type": "stream",
     "text": [
      "0\n",
      "1\n",
      "2\n",
      "3\n"
     ]
    }
   ],
   "source": [
    "valor = 0\n",
    "while valor < 10:\n",
    "    if valor == 4:\n",
    "        break\n",
    "    else:\n",
    "        pass\n",
    "    print(valor)\n",
    "    valor = valor + 1"
   ]
  },
  {
   "cell_type": "code",
   "execution_count": 17,
   "id": "341aa67a",
   "metadata": {},
   "outputs": [
    {
     "name": "stdout",
     "output_type": "stream",
     "text": [
      "P\n",
      "y\n",
      "t\n",
      "h\n",
      "o\n",
      "n\n",
      " \n",
      "é\n",
      " \n",
      " \n",
      "d\n",
      "e\n",
      "m\n",
      "a\n",
      "i\n",
      "s\n"
     ]
    }
   ],
   "source": [
    "for letra in \"Python é zzz demais\":\n",
    "    if letra == \"z\":\n",
    "        continue\n",
    "    print(letra)"
   ]
  },
  {
   "cell_type": "markdown",
   "id": "0ad0359b",
   "metadata": {},
   "source": [
    "# while e for juntos\n",
    "\n",
    "Vamos encontrar números primos em uma coleção usando loop while e for juntos.\n",
    "\n",
    "Número primo: maior do que 1, dívisivel por apenas 1 e por ele mesmo."
   ]
  },
  {
   "cell_type": "markdown",
   "id": "ba14330b",
   "metadata": {},
   "source": [
    " Pseudocódigo:\n",
    "\n",
    "Inicializar uma lista vazia para armazenar os números primos \n",
    "\n",
    "Para cada número N entre 2 e 30: \n",
    "\n",
    "    Inicializar uma variável eh_primo como verdadeira \n",
    "    \n",
    "    Para cada número i entre 2 e N/2: \n",
    "    \n",
    "        Se N é divísivel por i, então: \n",
    "        \n",
    "            Altere a variável eh_primo para falso \n",
    "            \n",
    "            Pare de verificar os outros números \n",
    "            \n",
    "    Se a variável eh_primo é verdadeira, adicione N a lista de números primos \n",
    "    \n",
    "Imprima a lista de números primos "
   ]
  },
  {
   "cell_type": "code",
   "execution_count": 18,
   "id": "83ef2921",
   "metadata": {},
   "outputs": [
    {
     "name": "stdout",
     "output_type": "stream",
     "text": [
      "[2, 3, 5, 7, 11, 13, 17, 19, 23, 29]\n"
     ]
    }
   ],
   "source": [
    "primos = []\n",
    "\n",
    "for n in range(2,31):\n",
    "    \n",
    "    # Variável de controle\n",
    "    primo = True\n",
    "    \n",
    "    # Verificar se o número é primo\n",
    "    i = 2\n",
    "    while i <= n // 2:\n",
    "        if n % i == 0:\n",
    "            primo = False\n",
    "            break\n",
    "        i += 1\n",
    "        \n",
    "    # Adiciona na lista \n",
    "    if primo:\n",
    "        primos.append(n)\n",
    "        \n",
    "print(primos)"
   ]
  },
  {
   "cell_type": "code",
   "execution_count": 22,
   "id": "cc5191ca",
   "metadata": {},
   "outputs": [
    {
     "name": "stdout",
     "output_type": "stream",
     "text": [
      "2 é um número primo\n",
      "3 é um número primo\n",
      "5 é um número primo\n",
      "7 é um número primo\n",
      "11 é um número primo\n",
      "13 é um número primo\n",
      "17 é um número primo\n",
      "19 é um número primo\n",
      "23 é um número primo\n",
      "29 é um número primo\n"
     ]
    }
   ],
   "source": [
    "primos = []\n",
    "\n",
    "for i in range(2,31):\n",
    "    \n",
    "    # Variável de controle\n",
    "    j = 2\n",
    "    \n",
    "    # Contador \n",
    "    valor = 0\n",
    "    \n",
    "    #Verifica o número\n",
    "    while j < i:\n",
    "        if i % j == 0:\n",
    "            valor = 1\n",
    "            j = j + 1\n",
    "        else:\n",
    "            j = j + 1\n",
    "            \n",
    "    if valor == 0:\n",
    "        print(str(i) + \" é um número primo\")\n",
    "        valor = 0 \n",
    "    else:\n",
    "        valor = 0"
   ]
  }
 ],
 "metadata": {
  "kernelspec": {
   "display_name": "Python 3 (ipykernel)",
   "language": "python",
   "name": "python3"
  },
  "language_info": {
   "codemirror_mode": {
    "name": "ipython",
    "version": 3
   },
   "file_extension": ".py",
   "mimetype": "text/x-python",
   "name": "python",
   "nbconvert_exporter": "python",
   "pygments_lexer": "ipython3",
   "version": "3.9.13"
  }
 },
 "nbformat": 4,
 "nbformat_minor": 5
}
