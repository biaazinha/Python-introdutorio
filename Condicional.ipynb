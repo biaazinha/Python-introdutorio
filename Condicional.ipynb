{
 "cells": [
  {
   "cell_type": "markdown",
   "id": "348ef780",
   "metadata": {},
   "source": [
    "# Condicionais"
   ]
  },
  {
   "cell_type": "markdown",
   "id": "51cd55e5",
   "metadata": {},
   "source": [
    "Condicional if "
   ]
  },
  {
   "cell_type": "code",
   "execution_count": 1,
   "id": "b7fff733",
   "metadata": {},
   "outputs": [
    {
     "name": "stdout",
     "output_type": "stream",
     "text": [
      "A sentença é verdadeira!\n"
     ]
    }
   ],
   "source": [
    "# Condicional SE (if)\n",
    "\n",
    "if 5 > 2:\n",
    "    print(\"A sentença é verdadeira!\")"
   ]
  },
  {
   "cell_type": "code",
   "execution_count": 2,
   "id": "b8115763",
   "metadata": {},
   "outputs": [
    {
     "name": "stdout",
     "output_type": "stream",
     "text": [
      "A sentença é verdadeira!\n"
     ]
    }
   ],
   "source": [
    "# Condicional SE SENÃO (if...Else)\n",
    "\n",
    "\n",
    "if 5 > 2:\n",
    "    print(\"A sentença é verdadeira!\")\n",
    "else:\n",
    "    print(\"A sentença é falsa!\")"
   ]
  },
  {
   "cell_type": "code",
   "execution_count": 3,
   "id": "0519ef0d",
   "metadata": {},
   "outputs": [
    {
     "name": "stdout",
     "output_type": "stream",
     "text": [
      "Hoje irá chover!\n"
     ]
    }
   ],
   "source": [
    "# Condicional SE SENÃO com variável\n",
    "\n",
    "dia = \"Terça\"\n",
    "\n",
    "if dia == \"Segunda\":\n",
    "    print(\"Hoje fará sol!\")\n",
    "else:\n",
    "    print(\"Hoje irá chover!\")"
   ]
  },
  {
   "cell_type": "code",
   "execution_count": 6,
   "id": "7137b0ab",
   "metadata": {},
   "outputs": [
    {
     "name": "stdout",
     "output_type": "stream",
     "text": [
      "Hoje irá chover!\n"
     ]
    }
   ],
   "source": [
    "# Condicional ELIF para validar mais de uma condição verdadeira\n",
    "\n",
    "if dia == \"Segunda\":\n",
    "    print(\"Hoje fará sol!\")\n",
    "elif dia == \"Terça\":\n",
    "    print(\"Hoje irá chover!\")\n",
    "else:\n",
    "    print(\"Sem previsão do tempo!\")"
   ]
  },
  {
   "cell_type": "markdown",
   "id": "e9839815",
   "metadata": {},
   "source": [
    "Operadores relacionais = retorna um valor booleano"
   ]
  },
  {
   "cell_type": "code",
   "execution_count": 7,
   "id": "01d359e6",
   "metadata": {},
   "outputs": [
    {
     "data": {
      "text/plain": [
       "True"
      ]
     },
     "execution_count": 7,
     "metadata": {},
     "output_type": "execute_result"
    }
   ],
   "source": [
    "6 > 3"
   ]
  },
  {
   "cell_type": "code",
   "execution_count": 8,
   "id": "49bb5bfe",
   "metadata": {},
   "outputs": [
    {
     "data": {
      "text/plain": [
       "False"
      ]
     },
     "execution_count": 8,
     "metadata": {},
     "output_type": "execute_result"
    }
   ],
   "source": [
    "6 < 4"
   ]
  },
  {
   "cell_type": "code",
   "execution_count": 9,
   "id": "f46ab661",
   "metadata": {},
   "outputs": [
    {
     "data": {
      "text/plain": [
       "False"
      ]
     },
     "execution_count": 9,
     "metadata": {},
     "output_type": "execute_result"
    }
   ],
   "source": [
    "4 >= 8"
   ]
  },
  {
   "cell_type": "code",
   "execution_count": 10,
   "id": "06ec6117",
   "metadata": {},
   "outputs": [
    {
     "name": "stdout",
     "output_type": "stream",
     "text": [
      "Testando\n"
     ]
    }
   ],
   "source": [
    "if 5 == 5:\n",
    "    print (\"Testando\")"
   ]
  },
  {
   "cell_type": "code",
   "execution_count": 11,
   "id": "f3aaca85",
   "metadata": {},
   "outputs": [
    {
     "name": "stdout",
     "output_type": "stream",
     "text": [
      "Teste\n"
     ]
    }
   ],
   "source": [
    "if True:\n",
    "    print(\"Teste\")"
   ]
  },
  {
   "cell_type": "markdown",
   "id": "1f3396f6",
   "metadata": {},
   "source": [
    "Condicionais aninhados"
   ]
  },
  {
   "cell_type": "code",
   "execution_count": 12,
   "id": "8d6b5943",
   "metadata": {},
   "outputs": [
    {
     "name": "stdout",
     "output_type": "stream",
     "text": [
      "Voce pode beber!\n"
     ]
    }
   ],
   "source": [
    "idade = 18\n",
    "\n",
    "if idade > 17:\n",
    "    print(\"Voce pode beber!\")"
   ]
  },
  {
   "cell_type": "code",
   "execution_count": 14,
   "id": "8034d1bc",
   "metadata": {},
   "outputs": [
    {
     "name": "stdout",
     "output_type": "stream",
     "text": [
      "Pode entrar!\n"
     ]
    }
   ],
   "source": [
    "nome = \"Bia\"\n",
    "\n",
    "if idade > 17:\n",
    "    if nome == \"Bia\":\n",
    "        print(\"Pode entrar!\")\n",
    "    else: \n",
    "         print(\"Não pode entrar!\")"
   ]
  },
  {
   "cell_type": "code",
   "execution_count": 16,
   "id": "7157aef6",
   "metadata": {},
   "outputs": [
    {
     "name": "stdout",
     "output_type": "stream",
     "text": [
      "Ok Bob, pode entrar!\n"
     ]
    }
   ],
   "source": [
    "idade = 13\n",
    "nome = \"Bob\"\n",
    "\n",
    "if idade >= 13 and nome == \"Bob\":\n",
    "    print(\"Ok Bob, pode entrar!\")"
   ]
  },
  {
   "cell_type": "code",
   "execution_count": 17,
   "id": "2a1f8fd3",
   "metadata": {},
   "outputs": [
    {
     "name": "stdout",
     "output_type": "stream",
     "text": [
      "Ok Bob, pode entrar!\n"
     ]
    }
   ],
   "source": [
    "idade = 12\n",
    "nome = \"Bob\"\n",
    "\n",
    "if (idade >= 13) or (nome == \"Bob\"):\n",
    "    print(\"Ok Bob, pode entrar!\")"
   ]
  },
  {
   "cell_type": "markdown",
   "id": "14d7225f",
   "metadata": {},
   "source": [
    "Operadores lógicos"
   ]
  },
  {
   "cell_type": "code",
   "execution_count": 2,
   "id": "94120b6a",
   "metadata": {},
   "outputs": [
    {
     "name": "stdout",
     "output_type": "stream",
     "text": [
      "Pode dirigir\n"
     ]
    }
   ],
   "source": [
    "idade = 18 \n",
    "nome = \"Bia\"\n",
    "\n",
    "if idade > 17:\n",
    "    print(\"Pode dirigir\")"
   ]
  },
  {
   "cell_type": "code",
   "execution_count": 3,
   "id": "308f8804",
   "metadata": {},
   "outputs": [
    {
     "name": "stdout",
     "output_type": "stream",
     "text": [
      "Autorizado!\n"
     ]
    }
   ],
   "source": [
    "idade = 18\n",
    "if idade > 17 and nome == \"Bia\":\n",
    "    print(\"Autorizado!\")"
   ]
  },
  {
   "cell_type": "markdown",
   "id": "b800c7f7",
   "metadata": {},
   "source": [
    "and - retorna true se todas as declarações forem verdadeiras\n",
    "\n",
    "or - retorna true se uma das declarações for verdadeira\n",
    "\n",
    "not - inverte o resultado, retorna false se o resultado for true"
   ]
  },
  {
   "cell_type": "code",
   "execution_count": 4,
   "id": "a7b19d6b",
   "metadata": {},
   "outputs": [
    {
     "name": "stdout",
     "output_type": "stream",
     "text": [
      "Isso são duas condições verdadeiras\n"
     ]
    }
   ],
   "source": [
    "numero = 4\n",
    "\n",
    "if (numero > 2) and (numero % 2 == 0):\n",
    "    print(\"Isso são duas condições verdadeiras\")"
   ]
  },
  {
   "cell_type": "code",
   "execution_count": 7,
   "id": "86131dc4",
   "metadata": {},
   "outputs": [
    {
     "name": "stdout",
     "output_type": "stream",
     "text": [
      "Uma das duas condições é falsa\n"
     ]
    }
   ],
   "source": [
    "numero = 4\n",
    "\n",
    "if (numero > 5) and (numero % 2 == 0):\n",
    "    print(\"Isso são duas condições verdadeiras\")\n",
    "else:\n",
    "    print(\"Uma das duas condições é falsa\")"
   ]
  },
  {
   "cell_type": "code",
   "execution_count": 9,
   "id": "8cf20c8d",
   "metadata": {},
   "outputs": [
    {
     "name": "stdout",
     "output_type": "stream",
     "text": [
      "Uma das duas condições é verdadeira\n"
     ]
    }
   ],
   "source": [
    "numero = 4\n",
    "\n",
    "if (numero > 5) or (numero % 2 == 0):\n",
    "    print(\"Uma das duas condições é verdadeira\")"
   ]
  },
  {
   "cell_type": "code",
   "execution_count": 10,
   "id": "5d633410",
   "metadata": {},
   "outputs": [
    {
     "name": "stdout",
     "output_type": "stream",
     "text": [
      "Isso são duas condições verdadeiras\n"
     ]
    }
   ],
   "source": [
    "numero = 4\n",
    "\n",
    "if not(numero > 5) and (numero % 2 == 0):\n",
    "    print(\"Isso são duas condições verdadeiras\")\n",
    "else:\n",
    "    print(\"Uma das duas condições é falsa\")"
   ]
  },
  {
   "cell_type": "code",
   "execution_count": 11,
   "id": "9e709874",
   "metadata": {},
   "outputs": [
    {
     "name": "stdout",
     "output_type": "stream",
     "text": [
      "Duas primeiras verdadeiras e a terceira é verdadeira\n"
     ]
    }
   ],
   "source": [
    "numero = 4\n",
    "\n",
    "if (not(numero > 5) and (numero % 2 == 0)) or (numero == 4):\n",
    "    print(\"Duas primeiras verdadeiras e a terceira é verdadeira\")"
   ]
  },
  {
   "cell_type": "code",
   "execution_count": 13,
   "id": "433809fe",
   "metadata": {},
   "outputs": [
    {
     "name": "stdout",
     "output_type": "stream",
     "text": [
      "Aprovado\n"
     ]
    }
   ],
   "source": [
    "# Uso com variáveis \n",
    "\n",
    "disciplina = 'Data Science'\n",
    "nota_final = 70\n",
    "\n",
    "if disciplina == 'Data Science' and nota_final >= 70:\n",
    "    print(\"Aprovado\")\n",
    "else:\n",
    "    print(\"Reprovado\")"
   ]
  },
  {
   "cell_type": "code",
   "execution_count": 14,
   "id": "665d162d",
   "metadata": {},
   "outputs": [
    {
     "name": "stdout",
     "output_type": "stream",
     "text": [
      "Reprovado\n"
     ]
    }
   ],
   "source": [
    "disciplina = 'Data Science'\n",
    "nota_final = 60\n",
    "\n",
    "if disciplina == 'Data Science' and nota_final >= 70:\n",
    "    print(\"Aprovado\")\n",
    "else:\n",
    "    print(\"Reprovado\")"
   ]
  },
  {
   "cell_type": "code",
   "execution_count": 16,
   "id": "61753bae",
   "metadata": {},
   "outputs": [
    {
     "name": "stdout",
     "output_type": "stream",
     "text": [
      "Aprovado em Data Science com média final 90!\n"
     ]
    }
   ],
   "source": [
    "disciplina = 'Data Science'\n",
    "nota_final = 90\n",
    "semestre = 2\n",
    "\n",
    "if disciplina == 'Data Science' and nota_final >= 80 and semestre != 1:\n",
    "    print(\"Aprovado em %s com média final %r!\" %(disciplina, nota_final))\n",
    "else:\n",
    "    print(\"Reprovado\")"
   ]
  }
 ],
 "metadata": {
  "kernelspec": {
   "display_name": "Python 3 (ipykernel)",
   "language": "python",
   "name": "python3"
  },
  "language_info": {
   "codemirror_mode": {
    "name": "ipython",
    "version": 3
   },
   "file_extension": ".py",
   "mimetype": "text/x-python",
   "name": "python",
   "nbconvert_exporter": "python",
   "pygments_lexer": "ipython3",
   "version": "3.9.13"
  }
 },
 "nbformat": 4,
 "nbformat_minor": 5
}
