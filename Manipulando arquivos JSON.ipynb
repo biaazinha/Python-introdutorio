{
 "cells": [
  {
   "cell_type": "markdown",
   "id": "12f363de",
   "metadata": {},
   "source": [
    "# Manipulando arquivos JSON"
   ]
  },
  {
   "cell_type": "code",
   "execution_count": 1,
   "id": "3426bb2e",
   "metadata": {},
   "outputs": [],
   "source": [
    "# Criando um dicionário \n",
    "dict_guido = {'nome': 'Guido van Rossum',\n",
    "              'linguagem': 'Python',\n",
    "              'similar': ['c', 'lisp'],\n",
    "              'users': 1000}"
   ]
  },
  {
   "cell_type": "code",
   "execution_count": 2,
   "id": "05e154ec",
   "metadata": {},
   "outputs": [
    {
     "name": "stdout",
     "output_type": "stream",
     "text": [
      "nome Guido van Rossum\n",
      "linguagem Python\n",
      "similar ['c', 'lisp']\n",
      "users 1000\n"
     ]
    }
   ],
   "source": [
    "for k,v in dict_guido.items():\n",
    "    print(k,v)"
   ]
  },
  {
   "cell_type": "code",
   "execution_count": 3,
   "id": "7fc91ad3",
   "metadata": {},
   "outputs": [],
   "source": [
    "# Importando módulo json\n",
    "import json "
   ]
  },
  {
   "cell_type": "code",
   "execution_count": 4,
   "id": "e4ffab86",
   "metadata": {},
   "outputs": [
    {
     "data": {
      "text/plain": [
       "'{\"nome\": \"Guido van Rossum\", \"linguagem\": \"Python\", \"similar\": [\"c\", \"lisp\"], \"users\": 1000}'"
      ]
     },
     "execution_count": 4,
     "metadata": {},
     "output_type": "execute_result"
    }
   ],
   "source": [
    "# Convertendo o dicionário para um objeto json \n",
    "json.dumps(dict_guido)"
   ]
  },
  {
   "cell_type": "code",
   "execution_count": 5,
   "id": "80d0da8d",
   "metadata": {},
   "outputs": [],
   "source": [
    "# Criando um arquivo json \n",
    "\n",
    "with open('arquivos/dados.json', 'w') as arquivo:\n",
    "    arquivo.write(json.dumps(dict_guido))"
   ]
  },
  {
   "cell_type": "code",
   "execution_count": 6,
   "id": "3e5318ec",
   "metadata": {},
   "outputs": [],
   "source": [
    "# Leitura de arquivos json \n",
    "with open('arquivos/dados.json', 'r') as arquivo:\n",
    "    texto = arquivo.read()\n",
    "    # Método loads para carregar o conteúdo do texto em formato json\n",
    "    dados = json.loads(texto)"
   ]
  },
  {
   "cell_type": "code",
   "execution_count": 7,
   "id": "648f92a8",
   "metadata": {},
   "outputs": [
    {
     "data": {
      "text/plain": [
       "{'nome': 'Guido van Rossum',\n",
       " 'linguagem': 'Python',\n",
       " 'similar': ['c', 'lisp'],\n",
       " 'users': 1000}"
      ]
     },
     "execution_count": 7,
     "metadata": {},
     "output_type": "execute_result"
    }
   ],
   "source": [
    "dados"
   ]
  },
  {
   "cell_type": "code",
   "execution_count": 8,
   "id": "7174709c",
   "metadata": {},
   "outputs": [
    {
     "name": "stdout",
     "output_type": "stream",
     "text": [
      "Guido van Rossum\n"
     ]
    }
   ],
   "source": [
    "print(dados['nome'])"
   ]
  },
  {
   "cell_type": "markdown",
   "id": "aa8f9f0f",
   "metadata": {},
   "source": [
    "Extração de arquivos da Web"
   ]
  },
  {
   "cell_type": "code",
   "execution_count": 9,
   "id": "429919de",
   "metadata": {},
   "outputs": [],
   "source": [
    "# Imprimindo um arquivo JSON copiado da internet \n",
    "from urllib.request import urlopen\n",
    "\n",
    "response = urlopen(\"http://vimeo.com/api/v2/video/57733101.json\"). read().decode('utf8')\n",
    "dados = json.loads(response)[0]"
   ]
  },
  {
   "cell_type": "code",
   "execution_count": 10,
   "id": "320e09f8",
   "metadata": {},
   "outputs": [
    {
     "data": {
      "text/plain": [
       "{'id': 57733101,\n",
       " 'title': 'The Good Man trailer',\n",
       " 'description': 'Trailer for the Manifesto Films production, The Good Man, now available in UK/Ireland/US/Canada/Australia/New Zealand on iTunes (https://itunes.apple.com/us/movie/the-good-man/id873130906) and DVD (http://www.amazon.co.uk/The-Good-Man-Aiden-Gillen/dp/B00IIK6CGU/). Co-production with Jet Black Entertainment (South Africa). Starring Aidan Gillen, Thabang Sidloyi, Kelly Campbell, Lunathi Mampofu. Written & directed by Phil Harrison. More info at www.thegoodmanfilm.com<br />\\r\\n<br />\\r\\nCheck out the Variety Magazine review here: http://www.variety.com/review/VE1117947909/',\n",
       " 'url': 'https://vimeo.com/57733101',\n",
       " 'upload_date': '2013-01-19 04:01:15',\n",
       " 'thumbnail_small': 'https://i.vimeocdn.com/video/436057121-e828a1f5478ec0136e957753d107f2a1268c64def9b82faac37c8e30c031cff2-d_100x75',\n",
       " 'thumbnail_medium': 'https://i.vimeocdn.com/video/436057121-e828a1f5478ec0136e957753d107f2a1268c64def9b82faac37c8e30c031cff2-d_200x150',\n",
       " 'thumbnail_large': 'https://i.vimeocdn.com/video/436057121-e828a1f5478ec0136e957753d107f2a1268c64def9b82faac37c8e30c031cff2-d_640',\n",
       " 'user_id': 1334563,\n",
       " 'user_name': 'Manifesto Films',\n",
       " 'user_url': 'https://vimeo.com/manifestofilms',\n",
       " 'user_portrait_small': 'https://i.vimeocdn.com/portrait/4778306_30x30?sig=dce4bd41e32adf3305ffd0a161ae27a5c919bba5773cf2f2c3ca5be075726518&v=1',\n",
       " 'user_portrait_medium': 'https://i.vimeocdn.com/portrait/4778306_75x75?sig=dce4bd41e32adf3305ffd0a161ae27a5c919bba5773cf2f2c3ca5be075726518&v=1',\n",
       " 'user_portrait_large': 'https://i.vimeocdn.com/portrait/4778306_100x100?sig=dce4bd41e32adf3305ffd0a161ae27a5c919bba5773cf2f2c3ca5be075726518&v=1',\n",
       " 'user_portrait_huge': 'https://i.vimeocdn.com/portrait/4778306_300x300?sig=dce4bd41e32adf3305ffd0a161ae27a5c919bba5773cf2f2c3ca5be075726518&v=1',\n",
       " 'stats_number_of_likes': 18,\n",
       " 'stats_number_of_plays': 6817,\n",
       " 'stats_number_of_comments': 2,\n",
       " 'duration': 143,\n",
       " 'width': 1024,\n",
       " 'height': 576,\n",
       " 'tags': 'belfast, cape town, africa, ireland, film',\n",
       " 'embed_privacy': 'anywhere'}"
      ]
     },
     "execution_count": 10,
     "metadata": {},
     "output_type": "execute_result"
    }
   ],
   "source": [
    "dados"
   ]
  },
  {
   "cell_type": "code",
   "execution_count": 13,
   "id": "daa0e48a",
   "metadata": {},
   "outputs": [
    {
     "name": "stdout",
     "output_type": "stream",
     "text": [
      "Título: The Good Man trailer\n",
      "URL: https://vimeo.com/57733101\n",
      "Duração: 143\n",
      "Número de visualizações: 6817\n"
     ]
    }
   ],
   "source": [
    "print('Título:', dados['title'])\n",
    "print('URL:', dados['url'])\n",
    "print('Duração:', dados['duration'])\n",
    "print('Número de visualizações:', dados['stats_number_of_plays'])"
   ]
  },
  {
   "cell_type": "markdown",
   "id": "09f4d043",
   "metadata": {},
   "source": [
    "Copiando conteúdo de um arquivo para o outro"
   ]
  },
  {
   "cell_type": "code",
   "execution_count": 14,
   "id": "23e44732",
   "metadata": {},
   "outputs": [],
   "source": [
    "# Nomes dos arquivos\n",
    "\n",
    "arquivo_fonte = 'arquivos/dados.json'\n",
    "arquivo_destino = 'arquivos/dados.txt'"
   ]
  },
  {
   "cell_type": "code",
   "execution_count": 15,
   "id": "0c7fb664",
   "metadata": {},
   "outputs": [],
   "source": [
    "# Método 1 \n",
    "\n",
    "with open(arquivo_fonte, 'r') as infile:\n",
    "    text = infile.read()\n",
    "    with open(arquivo_destino, 'w') as outfile:\n",
    "        outfile.write(text)"
   ]
  },
  {
   "cell_type": "code",
   "execution_count": 16,
   "id": "7fb9da43",
   "metadata": {},
   "outputs": [
    {
     "data": {
      "text/plain": [
       "92"
      ]
     },
     "execution_count": 16,
     "metadata": {},
     "output_type": "execute_result"
    }
   ],
   "source": [
    "# Método 2\n",
    "\n",
    "open(arquivo_destino, 'w').write(open(arquivo_fonte, 'r').read())"
   ]
  },
  {
   "cell_type": "code",
   "execution_count": 17,
   "id": "9e918067",
   "metadata": {},
   "outputs": [],
   "source": [
    " # Leitura do arquivo txt\n",
    "    \n",
    "with open('arquivos/dados.txt', 'r') as arquivo:\n",
    "    texto = arquivo.read()\n",
    "    dados = json.loads(texto)"
   ]
  },
  {
   "cell_type": "code",
   "execution_count": 18,
   "id": "c0027377",
   "metadata": {},
   "outputs": [
    {
     "name": "stdout",
     "output_type": "stream",
     "text": [
      "{'nome': 'Guido van Rossum', 'linguagem': 'Python', 'similar': ['c', 'lisp'], 'users': 1000}\n"
     ]
    }
   ],
   "source": [
    "print(dados)"
   ]
  }
 ],
 "metadata": {
  "kernelspec": {
   "display_name": "Python 3 (ipykernel)",
   "language": "python",
   "name": "python3"
  },
  "language_info": {
   "codemirror_mode": {
    "name": "ipython",
    "version": 3
   },
   "file_extension": ".py",
   "mimetype": "text/x-python",
   "name": "python",
   "nbconvert_exporter": "python",
   "pygments_lexer": "ipython3",
   "version": "3.9.13"
  }
 },
 "nbformat": 4,
 "nbformat_minor": 5
}
